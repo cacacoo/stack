{
 "cells": [
  {
   "cell_type": "code",
   "execution_count": 8,
   "metadata": {},
   "outputs": [
    {
     "name": "stdout",
     "output_type": "stream",
     "text": [
      "[300, 200, 50]\n",
      "[100, 0, -10]\n"
     ]
    }
   ],
   "source": [
    "# Vector \n",
    "\"\"\"\n",
    "유한한 차원의 공간에 존재하는 점들. 대부분의 데이터, 특히 숫자로 표현된 데이터는 벡터로 표현할 수 있다.\n",
    "벡터를 가장 간단하게 표현하는 방법은 숫자로 구성된 list\n",
    "\"\"\"\n",
    "\n",
    "height_weight_age_list = [[200, 100, 20],[100, 100, 30]] # cm, kg, 나이\n",
    "\n",
    "def vector_calculate(v, w, f):\n",
    "    return [f(v_i, w_i)\n",
    "           for v_i, w_i in zip(v,w)]\n",
    "\n",
    "def vector_add(v, w):\n",
    "    return vector_calculate(v,w, lambda v,w: v+w)\n",
    "\n",
    "def vector_subtract(v, w):\n",
    "    return vector_calculate(v,w, lambda v,w: v-w)\n",
    "\n",
    "add_result = vector_add(height_weight_age_list[0], height_weight_age_list[1])\n",
    "subtract_result = vector_subtract(height_weight_age_list[0], height_weight_age_list[1])\n",
    "print(add_result)\n",
    "print(subtract_result)"
   ]
  },
  {
   "cell_type": "code",
   "execution_count": 11,
   "metadata": {},
   "outputs": [
    {
     "name": "stdout",
     "output_type": "stream",
     "text": [
      "[300, 200, 50]\n",
      "[150.0, 100.0, 25.0]\n"
     ]
    }
   ],
   "source": [
    "from functools import reduce, partial\n",
    "\n",
    "\"\"\"i번째 성분의 합 백터를 반환\"\"\"\n",
    "vector_sum = partial(reduce, vector_add)\n",
    "\n",
    "def scala_multiply(c, v):\n",
    "    return [c * v_i for v_i in v]\n",
    "\n",
    "\"\"\"i번째 성분의 평균을 의미하는 백터를 반환\"\"\"\n",
    "def vector_mean(vectors):\n",
    "    n = len(vectors)\n",
    "    return scala_multiply(1/n, vector_sum(vectors))\n",
    "\n",
    "print(vector_sum(height_weight_age_list))\n",
    "print(vector_mean(height_weight_age_list))"
   ]
  },
  {
   "cell_type": "code",
   "execution_count": 13,
   "metadata": {},
   "outputs": [
    {
     "data": {
      "text/plain": [
       "100.4987562112089"
      ]
     },
     "execution_count": 13,
     "metadata": {},
     "output_type": "execute_result"
    }
   ],
   "source": [
    "# 내적(dot) - 벡터의 각 성분별 곱한 값의 합\n",
    "\"\"\"벡터 v 가 벡터 w 방향으로 얼마나 멀리 뻗어 나가는지를 나타낸다\"\"\"\n",
    "def dot(v, w):\n",
    "    return sum(v_i * w_i\n",
    "              for v_i, w_i in zip(v, w))\n",
    "\n",
    "\"\"\"각 성분의 제곱 합\"\"\"\n",
    "def sum_of_squares(v):\n",
    "    return dot(v, v)\n",
    "\n",
    "import math\n",
    "def magnitude(v):\n",
    "    return math.sqrt(sum_of_squares(v))\n",
    "\n",
    "\"\"\"두 백터간 거리\"\"\"\n",
    "def distance(v, w):\n",
    "    return magnitude(vector_subtract(v, w))\n",
    "\n",
    "distance(height_weight_age_list[0], height_weight_age_list[1])\n",
    "\n",
    "# 모든 연산이 Numpy 라이브러리에 있고 성능이 훨씬 좋다"
   ]
  },
  {
   "cell_type": "code",
   "execution_count": 17,
   "metadata": {},
   "outputs": [
    {
     "name": "stdout",
     "output_type": "stream",
     "text": [
      "(3, 2)\n",
      "[1, 3, 5]\n"
     ]
    }
   ],
   "source": [
    "# Metrix\n",
    "\"\"\"2차원으로 구성된 숫자집합, list의 list로 표현 가능\"\"\"\n",
    "\"\"\"벡터로 구성된 셋을 표현한다\"\"\"\n",
    "\n",
    "A = [[1,2],\n",
    "     [3,4],\n",
    "     [5,6]]\n",
    "\n",
    "def shape(metrix):\n",
    "    return len(metrix), len(metrix[0])\n",
    "\n",
    "print(shape(A)) # 3행, 2열\n",
    "\n",
    "def get_row(metrix, i):\n",
    "    return metrix[i]\n",
    "\n",
    "def get_column(metrix, i):\n",
    "    return [row[i]\n",
    "           for row in metrix]\n",
    "\n",
    "print(get_column(A, 0))"
   ]
  },
  {
   "cell_type": "code",
   "execution_count": 24,
   "metadata": {},
   "outputs": [
    {
     "data": {
      "text/plain": [
       "[[1, 0, 0, 0, 0],\n",
       " [0, 1, 0, 0, 0],\n",
       " [0, 0, 1, 0, 0],\n",
       " [0, 0, 0, 1, 0],\n",
       " [0, 0, 0, 0, 1]]"
      ]
     },
     "execution_count": 24,
     "metadata": {},
     "output_type": "execute_result"
    }
   ],
   "source": [
    "def make_metrix(num_rows, num_cols, entry_fn):\n",
    "    return [[entry_fn(r_i, c_i)\n",
    "            for r_i in range(num_rows)]\n",
    "            for c_i in range(num_cols)]\n",
    "\n",
    "make_metrix(5,5,lambda r,c: 0)\n",
    "make_metrix(5,5,lambda r,c: 1 if r==c else 0)"
   ]
  }
 ],
 "metadata": {
  "kernelspec": {
   "display_name": "Python 3",
   "language": "python",
   "name": "python3"
  },
  "language_info": {
   "codemirror_mode": {
    "name": "ipython",
    "version": 3
   },
   "file_extension": ".py",
   "mimetype": "text/x-python",
   "name": "python",
   "nbconvert_exporter": "python",
   "pygments_lexer": "ipython3",
   "version": "3.6.8"
  }
 },
 "nbformat": 4,
 "nbformat_minor": 2
}
