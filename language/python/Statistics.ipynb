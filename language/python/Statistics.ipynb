{
 "cells": [
  {
   "cell_type": "code",
   "execution_count": 37,
   "metadata": {},
   "outputs": [
    {
     "name": "stdout",
     "output_type": "stream",
     "text": [
      "[2, 5, 6, 9, 9, 15, 17, 18, 19, 19, 20, 20, 21, 21, 21, 23, 24, 25, 25, 26, 28, 29, 30, 31, 35, 40, 42, 42, 47, 48, 49, 50, 51, 53, 54, 55, 56, 57, 57, 57, 58, 60, 61, 61, 62, 63, 66, 66, 67, 67, 69, 70, 74, 75, 78, 80, 83, 84, 84, 87, 90, 90, 93, 93, 96, 103, 103, 103, 104, 108, 108, 114, 115, 115, 116, 117, 118, 120, 121, 125, 127, 128, 133, 134, 135, 136, 136, 137, 137, 138, 138, 138, 139, 140, 140, 142, 142, 143, 146, 149]\n",
      "75.81\n",
      "74.31111111111112\n",
      "69\n",
      "[57, 21, 138, 103]\n"
     ]
    }
   ],
   "source": [
    "# central tendency - 데이터의 중심이 어디있는지를 나타낸다\n",
    "# 주로 최빈값(mode), 중앙값(median), 평균(mean)으로 표현된다.\n",
    "\n",
    "import random\n",
    "from collections import Counter\n",
    "\n",
    "num_friends = [random.randrange(0,150) for _ in range(100)]\n",
    "\n",
    "def mean(x):\n",
    "    return sum(x) / len(x)\n",
    "\n",
    "# 때로 평균은 이상치에 민감하기때문에, 일부 최소,최대값을 제거하기도 한다.\n",
    "def mean_exclude_strange_value(x, percentage):\n",
    "    cutting_index = int((len(x) - (percentage * len(x))) / 2)\n",
    "    uppper_index = len(x) - cutting_index\n",
    "    return mean(x[cutting_index:uppper_index])\n",
    "\n",
    "def median(x):\n",
    "    return sorted(x)[index_of_middle(x)]\n",
    "\n",
    "def index_of_middle(x):\n",
    "    return int(len(x)/2 if len(x) % 2 == 0 else len(x)+1/2)\n",
    "\n",
    "def mode(x):\n",
    "    counts = Counter(x)\n",
    "    max_count = max(counts.values())\n",
    "    return [x_i for x_i, count in counts.items()\n",
    "           if count == max_count]\n",
    "\n",
    "print(sorted(num_friends))\n",
    "print(mean(num_friends))\n",
    "print(mean_exclude_strange_value(num_friends, 0.90))\n",
    "print(median(num_friends))\n",
    "print(mode(num_friends))"
   ]
  },
  {
   "cell_type": "code",
   "execution_count": 52,
   "metadata": {},
   "outputs": [
    {
     "name": "stdout",
     "output_type": "stream",
     "text": [
      "75.81\n",
      "1941.0443434343426\n",
      "44.057284794167046\n"
     ]
    }
   ],
   "source": [
    "# 표준편차(standard_deviation), 분산(variance)\n",
    "\n",
    "from math import sqrt\n",
    "\n",
    "def diff_mean(x):\n",
    "    x_bar = mean(x)\n",
    "    return [x_i - x_bar for x_i in x]\n",
    "\n",
    "def sum_of_squares(x):\n",
    "    return sum([x_i ** 2 for x_i in x])\n",
    "    \n",
    "def variance(x):\n",
    "    deviations = diff_mean(x)\n",
    "    return sum_of_squares(deviations) / (len(x)-1)\n",
    "\n",
    "def standard_deviations(x):\n",
    "    return sqrt(variance(x))\n",
    "\n",
    "print(mean(num_friends))\n",
    "print(variance(num_friends))\n",
    "print(standard_deviations(num_friends))"
   ]
  },
  {
   "cell_type": "code",
   "execution_count": 57,
   "metadata": {},
   "outputs": [
    {
     "data": {
      "text/plain": [
       "19.04474747474748"
      ]
     },
     "execution_count": 57,
     "metadata": {},
     "output_type": "execute_result"
    }
   ],
   "source": [
    "# covariance(공분산)\n",
    "# 분산 - 하나의 변수가 변수 평균에서 얼마나 멀리 떨어져있는가\n",
    "# 공분산 - 두 변수가 각각의 평균에서 얼마나 멀리 떨어져있는가\n",
    "\n",
    "daily_minutes = [random.randrange(3,50) for _ in range(100)]\n",
    "\n",
    "def dot(v, w):\n",
    "    return sum(v_i * w_i\n",
    "            for v_i, w_i in zip(v, w))\n",
    "\n",
    "def covariance(v, w):\n",
    "    return dot(diff_mean(v), diff_mean(w)) / (len(v)-1)\n",
    "\n",
    "covariance(num_friends, daily_minutes)"
   ]
  },
  {
   "cell_type": "code",
   "execution_count": null,
   "metadata": {
    "collapsed": true
   },
   "outputs": [],
   "source": []
  },
  {
   "cell_type": "code",
   "execution_count": 58,
   "metadata": {},
   "outputs": [
    {
     "data": {
      "text/plain": [
       "0.029826106531632895"
      ]
     },
     "execution_count": 58,
     "metadata": {},
     "output_type": "execute_result"
    }
   ],
   "source": [
    "# 상관계수 - 두 변인간의 상관정도를 표현\n",
    "\n",
    "def correlation(x, y):\n",
    "    stdev_x = standard_deviations(x)\n",
    "    stdev_y = standard_deviations(y)\n",
    "    if stdev_x > 0 and stdev_y > 0:\n",
    "        return covariance(x,y) / stdev_x / stdev_y\n",
    "    else :\n",
    "        return 0\n",
    "    \n",
    "correlation(num_friends,daily_minutes)"
   ]
  }
 ],
 "metadata": {
  "kernelspec": {
   "display_name": "Python 3",
   "language": "python",
   "name": "python3"
  },
  "language_info": {
   "codemirror_mode": {
    "name": "ipython",
    "version": 3
   },
   "file_extension": ".py",
   "mimetype": "text/x-python",
   "name": "python",
   "nbconvert_exporter": "python",
   "pygments_lexer": "ipython3",
   "version": "3.6.8"
  }
 },
 "nbformat": 4,
 "nbformat_minor": 2
}
